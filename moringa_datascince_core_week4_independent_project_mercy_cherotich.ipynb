{
  "nbformat": 4,
  "nbformat_minor": 0,
  "metadata": {
    "colab": {
      "name": "moringa_datascince_core_week4_independent_project_mercy_cherotich",
      "provenance": [],
      "collapsed_sections": [
        "kLG2VTrnTvYL",
        "XecOwPNorl2W",
        "J4wfHZwQrs-t",
        "a9BPYqunry97",
        "7KMRBJ7zr9HD",
        "zSGyg6kWsBUl",
        "iUNbvIvnT7ep",
        "OI3P3YnHUEBk",
        "ckfufNrcUHeH",
        "6XC_g-zKxe-r",
        "FlBMxEDBUc9B",
        "rF2ABPsHUtbZ",
        "vTbdjSrhVIiT",
        "lQ2G4ZPDVOXE",
        "xrmHVMVsVS--",
        "HPQviDmNtta8",
        "qjFHK1CKty7o",
        "HSsicSdvt4Zs"
      ],
      "include_colab_link": true
    },
    "kernelspec": {
      "name": "python3",
      "display_name": "Python 3"
    }
  },
  "cells": [
    {
      "cell_type": "markdown",
      "metadata": {
        "id": "view-in-github",
        "colab_type": "text"
      },
      "source": [
        "<a href=\"https://colab.research.google.com/github/Cherow/week4_datasciencecore_independentproject/blob/main/moringa_datascince_core_week4_independent_project_mercy_cherotich.ipynb\" target=\"_parent\"><img src=\"https://colab.research.google.com/assets/colab-badge.svg\" alt=\"Open In Colab\"/></a>"
      ]
    },
    {
      "cell_type": "markdown",
      "metadata": {
        "id": "xMxtPsqcTsSH"
      },
      "source": [
        "## Autolib Electric car sharing analysis"
      ]
    },
    {
      "cell_type": "markdown",
      "metadata": {
        "id": "kLG2VTrnTvYL"
      },
      "source": [
        "## 1. Defining the Question"
      ]
    },
    {
      "cell_type": "markdown",
      "metadata": {
        "id": "XecOwPNorl2W"
      },
      "source": [
        "### a) Specifying the Question"
      ]
    },
    {
      "cell_type": "markdown",
      "metadata": {
        "id": "8l3-hBO6bODP"
      },
      "source": [
        "the study question is trying to find out if there is difference between the mean of the number of blue vars taken in  area 1 whose postal code is 75001 and area 2 whose postal code is 75002 "
      ]
    },
    {
      "cell_type": "markdown",
      "metadata": {
        "id": "J4wfHZwQrs-t"
      },
      "source": [
        "### b) Defining the Metric for Success"
      ]
    },
    {
      "cell_type": "markdown",
      "metadata": {
        "id": "zn7iDlQ0gq3U"
      },
      "source": [
        "the metric of success is measured when we successfuly prove the hypothesis that there is difference"
      ]
    },
    {
      "cell_type": "markdown",
      "metadata": {
        "id": "a9BPYqunry97"
      },
      "source": [
        "### c) Understanding the context "
      ]
    },
    {
      "cell_type": "markdown",
      "metadata": {
        "id": "kw4EQTkeg7pd"
      },
      "source": [
        " the autolib cars electric car sharing is trying to find out if there is mean difference in the taken blue cars in area 1 and area 2 in order to get to know the performence of their electric car shring is it more effective in one area or the another or another region behind and this will help in asseing its performance"
      ]
    },
    {
      "cell_type": "markdown",
      "metadata": {
        "id": "7KMRBJ7zr9HD"
      },
      "source": [
        "### d) Recording the Experimental Design"
      ]
    },
    {
      "cell_type": "markdown",
      "metadata": {
        "id": "K0WWrx8zlHEs"
      },
      "source": [
        "the experiment design is the standard Crisp-dm experimental design"
      ]
    },
    {
      "cell_type": "markdown",
      "metadata": {
        "id": "zSGyg6kWsBUl"
      },
      "source": [
        "### e) Data *Relevance*"
      ]
    },
    {
      "cell_type": "markdown",
      "metadata": {
        "id": "Kl0OejSalV3d"
      },
      "source": [
        "the data available ia s relevant and adequate thus the study can be done effectively\n"
      ]
    },
    {
      "cell_type": "markdown",
      "metadata": {
        "id": "iUNbvIvnT7ep"
      },
      "source": [
        "## 2. Reading the Data"
      ]
    },
    {
      "cell_type": "code",
      "metadata": {
        "id": "XJn2KjW-WMlG"
      },
      "source": [
        "# Loading the Data from the source i.e. csv\n",
        "import pandas as pd\n",
        "import numpy as np\n",
        "import seaborn as sns\n",
        "import matplotlib.pyplot as plt\n",
        "url = '/content/autolib_daily_events_postal_code.csv'\n",
        "#\n",
        "autolib_df = pd.read_csv(url)"
      ],
      "execution_count": 1,
      "outputs": []
    },
    {
      "cell_type": "markdown",
      "metadata": {
        "id": "OI3P3YnHUEBk"
      },
      "source": [
        "## 3. Checking the Data"
      ]
    },
    {
      "cell_type": "code",
      "metadata": {
        "id": "YjSVNwgptHxY",
        "colab": {
          "base_uri": "https://localhost:8080/"
        },
        "outputId": "fdfaa77f-d80a-46dc-ac2b-6a3012c44500"
      },
      "source": [
        "# Determining the no. of records in our dataset\n",
        "#\n",
        "autolib_df.shape"
      ],
      "execution_count": 2,
      "outputs": [
        {
          "output_type": "execute_result",
          "data": {
            "text/plain": [
              "(16085, 13)"
            ]
          },
          "metadata": {},
          "execution_count": 2
        }
      ]
    },
    {
      "cell_type": "code",
      "metadata": {
        "id": "xHhTw5eKWr0n",
        "colab": {
          "base_uri": "https://localhost:8080/",
          "height": 240
        },
        "outputId": "169b123f-22f3-416f-cab2-69adff82b7fc"
      },
      "source": [
        "# Previewing the top of our dataset\n",
        "#\n",
        "autolib_df.head()"
      ],
      "execution_count": 3,
      "outputs": [
        {
          "output_type": "execute_result",
          "data": {
            "text/html": [
              "<div>\n",
              "<style scoped>\n",
              "    .dataframe tbody tr th:only-of-type {\n",
              "        vertical-align: middle;\n",
              "    }\n",
              "\n",
              "    .dataframe tbody tr th {\n",
              "        vertical-align: top;\n",
              "    }\n",
              "\n",
              "    .dataframe thead th {\n",
              "        text-align: right;\n",
              "    }\n",
              "</style>\n",
              "<table border=\"1\" class=\"dataframe\">\n",
              "  <thead>\n",
              "    <tr style=\"text-align: right;\">\n",
              "      <th></th>\n",
              "      <th>Postal code</th>\n",
              "      <th>date</th>\n",
              "      <th>n_daily_data_points</th>\n",
              "      <th>dayOfWeek</th>\n",
              "      <th>day_type</th>\n",
              "      <th>BlueCars_taken_sum</th>\n",
              "      <th>BlueCars_returned_sum</th>\n",
              "      <th>Utilib_taken_sum</th>\n",
              "      <th>Utilib_returned_sum</th>\n",
              "      <th>Utilib_14_taken_sum</th>\n",
              "      <th>Utilib_14_returned_sum</th>\n",
              "      <th>Slots_freed_sum</th>\n",
              "      <th>Slots_taken_sum</th>\n",
              "    </tr>\n",
              "  </thead>\n",
              "  <tbody>\n",
              "    <tr>\n",
              "      <th>0</th>\n",
              "      <td>75001</td>\n",
              "      <td>1/1/2018</td>\n",
              "      <td>1440</td>\n",
              "      <td>0</td>\n",
              "      <td>weekday</td>\n",
              "      <td>110</td>\n",
              "      <td>103</td>\n",
              "      <td>3</td>\n",
              "      <td>2</td>\n",
              "      <td>10</td>\n",
              "      <td>9</td>\n",
              "      <td>22</td>\n",
              "      <td>20</td>\n",
              "    </tr>\n",
              "    <tr>\n",
              "      <th>1</th>\n",
              "      <td>75001</td>\n",
              "      <td>1/2/2018</td>\n",
              "      <td>1438</td>\n",
              "      <td>1</td>\n",
              "      <td>weekday</td>\n",
              "      <td>98</td>\n",
              "      <td>94</td>\n",
              "      <td>1</td>\n",
              "      <td>1</td>\n",
              "      <td>8</td>\n",
              "      <td>8</td>\n",
              "      <td>23</td>\n",
              "      <td>22</td>\n",
              "    </tr>\n",
              "    <tr>\n",
              "      <th>2</th>\n",
              "      <td>75001</td>\n",
              "      <td>1/3/2018</td>\n",
              "      <td>1439</td>\n",
              "      <td>2</td>\n",
              "      <td>weekday</td>\n",
              "      <td>138</td>\n",
              "      <td>139</td>\n",
              "      <td>0</td>\n",
              "      <td>0</td>\n",
              "      <td>2</td>\n",
              "      <td>2</td>\n",
              "      <td>27</td>\n",
              "      <td>27</td>\n",
              "    </tr>\n",
              "    <tr>\n",
              "      <th>3</th>\n",
              "      <td>75001</td>\n",
              "      <td>1/4/2018</td>\n",
              "      <td>1320</td>\n",
              "      <td>3</td>\n",
              "      <td>weekday</td>\n",
              "      <td>104</td>\n",
              "      <td>104</td>\n",
              "      <td>2</td>\n",
              "      <td>2</td>\n",
              "      <td>9</td>\n",
              "      <td>8</td>\n",
              "      <td>25</td>\n",
              "      <td>21</td>\n",
              "    </tr>\n",
              "    <tr>\n",
              "      <th>4</th>\n",
              "      <td>75001</td>\n",
              "      <td>1/5/2018</td>\n",
              "      <td>1440</td>\n",
              "      <td>4</td>\n",
              "      <td>weekday</td>\n",
              "      <td>114</td>\n",
              "      <td>117</td>\n",
              "      <td>3</td>\n",
              "      <td>3</td>\n",
              "      <td>6</td>\n",
              "      <td>6</td>\n",
              "      <td>18</td>\n",
              "      <td>20</td>\n",
              "    </tr>\n",
              "  </tbody>\n",
              "</table>\n",
              "</div>"
            ],
            "text/plain": [
              "   Postal code      date  ...  Slots_freed_sum  Slots_taken_sum\n",
              "0        75001  1/1/2018  ...               22               20\n",
              "1        75001  1/2/2018  ...               23               22\n",
              "2        75001  1/3/2018  ...               27               27\n",
              "3        75001  1/4/2018  ...               25               21\n",
              "4        75001  1/5/2018  ...               18               20\n",
              "\n",
              "[5 rows x 13 columns]"
            ]
          },
          "metadata": {},
          "execution_count": 3
        }
      ]
    },
    {
      "cell_type": "code",
      "metadata": {
        "id": "e9AzGcZFrIIr",
        "colab": {
          "base_uri": "https://localhost:8080/",
          "height": 240
        },
        "outputId": "35ef132c-4a6c-472b-d7dd-afd9d40eaf01"
      },
      "source": [
        "# Previewing the bottom of our dataset\n",
        "# \n",
        "autolib_df.tail()"
      ],
      "execution_count": 4,
      "outputs": [
        {
          "output_type": "execute_result",
          "data": {
            "text/html": [
              "<div>\n",
              "<style scoped>\n",
              "    .dataframe tbody tr th:only-of-type {\n",
              "        vertical-align: middle;\n",
              "    }\n",
              "\n",
              "    .dataframe tbody tr th {\n",
              "        vertical-align: top;\n",
              "    }\n",
              "\n",
              "    .dataframe thead th {\n",
              "        text-align: right;\n",
              "    }\n",
              "</style>\n",
              "<table border=\"1\" class=\"dataframe\">\n",
              "  <thead>\n",
              "    <tr style=\"text-align: right;\">\n",
              "      <th></th>\n",
              "      <th>Postal code</th>\n",
              "      <th>date</th>\n",
              "      <th>n_daily_data_points</th>\n",
              "      <th>dayOfWeek</th>\n",
              "      <th>day_type</th>\n",
              "      <th>BlueCars_taken_sum</th>\n",
              "      <th>BlueCars_returned_sum</th>\n",
              "      <th>Utilib_taken_sum</th>\n",
              "      <th>Utilib_returned_sum</th>\n",
              "      <th>Utilib_14_taken_sum</th>\n",
              "      <th>Utilib_14_returned_sum</th>\n",
              "      <th>Slots_freed_sum</th>\n",
              "      <th>Slots_taken_sum</th>\n",
              "    </tr>\n",
              "  </thead>\n",
              "  <tbody>\n",
              "    <tr>\n",
              "      <th>16080</th>\n",
              "      <td>95880</td>\n",
              "      <td>6/15/2018</td>\n",
              "      <td>1440</td>\n",
              "      <td>4</td>\n",
              "      <td>weekday</td>\n",
              "      <td>15</td>\n",
              "      <td>10</td>\n",
              "      <td>0</td>\n",
              "      <td>0</td>\n",
              "      <td>2</td>\n",
              "      <td>3</td>\n",
              "      <td>0</td>\n",
              "      <td>0</td>\n",
              "    </tr>\n",
              "    <tr>\n",
              "      <th>16081</th>\n",
              "      <td>95880</td>\n",
              "      <td>6/16/2018</td>\n",
              "      <td>1440</td>\n",
              "      <td>5</td>\n",
              "      <td>weekend</td>\n",
              "      <td>19</td>\n",
              "      <td>19</td>\n",
              "      <td>0</td>\n",
              "      <td>0</td>\n",
              "      <td>2</td>\n",
              "      <td>1</td>\n",
              "      <td>0</td>\n",
              "      <td>0</td>\n",
              "    </tr>\n",
              "    <tr>\n",
              "      <th>16082</th>\n",
              "      <td>95880</td>\n",
              "      <td>6/17/2018</td>\n",
              "      <td>1440</td>\n",
              "      <td>6</td>\n",
              "      <td>weekend</td>\n",
              "      <td>33</td>\n",
              "      <td>35</td>\n",
              "      <td>1</td>\n",
              "      <td>1</td>\n",
              "      <td>0</td>\n",
              "      <td>0</td>\n",
              "      <td>0</td>\n",
              "      <td>0</td>\n",
              "    </tr>\n",
              "    <tr>\n",
              "      <th>16083</th>\n",
              "      <td>95880</td>\n",
              "      <td>6/18/2018</td>\n",
              "      <td>1440</td>\n",
              "      <td>0</td>\n",
              "      <td>weekday</td>\n",
              "      <td>11</td>\n",
              "      <td>14</td>\n",
              "      <td>3</td>\n",
              "      <td>5</td>\n",
              "      <td>2</td>\n",
              "      <td>2</td>\n",
              "      <td>0</td>\n",
              "      <td>0</td>\n",
              "    </tr>\n",
              "    <tr>\n",
              "      <th>16084</th>\n",
              "      <td>95880</td>\n",
              "      <td>6/19/2018</td>\n",
              "      <td>1370</td>\n",
              "      <td>1</td>\n",
              "      <td>weekday</td>\n",
              "      <td>2</td>\n",
              "      <td>2</td>\n",
              "      <td>2</td>\n",
              "      <td>1</td>\n",
              "      <td>0</td>\n",
              "      <td>0</td>\n",
              "      <td>0</td>\n",
              "      <td>0</td>\n",
              "    </tr>\n",
              "  </tbody>\n",
              "</table>\n",
              "</div>"
            ],
            "text/plain": [
              "       Postal code       date  ...  Slots_freed_sum  Slots_taken_sum\n",
              "16080        95880  6/15/2018  ...                0                0\n",
              "16081        95880  6/16/2018  ...                0                0\n",
              "16082        95880  6/17/2018  ...                0                0\n",
              "16083        95880  6/18/2018  ...                0                0\n",
              "16084        95880  6/19/2018  ...                0                0\n",
              "\n",
              "[5 rows x 13 columns]"
            ]
          },
          "metadata": {},
          "execution_count": 4
        }
      ]
    },
    {
      "cell_type": "code",
      "metadata": {
        "id": "n8-dW4sQWzbc",
        "colab": {
          "base_uri": "https://localhost:8080/"
        },
        "outputId": "2f91626e-b0ce-45bc-88bb-b156afc6f65e"
      },
      "source": [
        "# Checking whether each column has an appropriate datatype\n",
        "#\n",
        "autolib_df.info()\n",
        "#converting date to appropriate data type\n",
        "autolib_df['date'] =autolib_df['date'].astype('datetime64[ns]')\n",
        "#checking the appropriate datatype\n",
        "autolib_df.info()"
      ],
      "execution_count": 5,
      "outputs": [
        {
          "output_type": "stream",
          "name": "stdout",
          "text": [
            "<class 'pandas.core.frame.DataFrame'>\n",
            "RangeIndex: 16085 entries, 0 to 16084\n",
            "Data columns (total 13 columns):\n",
            " #   Column                  Non-Null Count  Dtype \n",
            "---  ------                  --------------  ----- \n",
            " 0   Postal code             16085 non-null  int64 \n",
            " 1   date                    16085 non-null  object\n",
            " 2   n_daily_data_points     16085 non-null  int64 \n",
            " 3   dayOfWeek               16085 non-null  int64 \n",
            " 4   day_type                16085 non-null  object\n",
            " 5   BlueCars_taken_sum      16085 non-null  int64 \n",
            " 6   BlueCars_returned_sum   16085 non-null  int64 \n",
            " 7   Utilib_taken_sum        16085 non-null  int64 \n",
            " 8   Utilib_returned_sum     16085 non-null  int64 \n",
            " 9   Utilib_14_taken_sum     16085 non-null  int64 \n",
            " 10  Utilib_14_returned_sum  16085 non-null  int64 \n",
            " 11  Slots_freed_sum         16085 non-null  int64 \n",
            " 12  Slots_taken_sum         16085 non-null  int64 \n",
            "dtypes: int64(11), object(2)\n",
            "memory usage: 1.6+ MB\n",
            "<class 'pandas.core.frame.DataFrame'>\n",
            "RangeIndex: 16085 entries, 0 to 16084\n",
            "Data columns (total 13 columns):\n",
            " #   Column                  Non-Null Count  Dtype         \n",
            "---  ------                  --------------  -----         \n",
            " 0   Postal code             16085 non-null  int64         \n",
            " 1   date                    16085 non-null  datetime64[ns]\n",
            " 2   n_daily_data_points     16085 non-null  int64         \n",
            " 3   dayOfWeek               16085 non-null  int64         \n",
            " 4   day_type                16085 non-null  object        \n",
            " 5   BlueCars_taken_sum      16085 non-null  int64         \n",
            " 6   BlueCars_returned_sum   16085 non-null  int64         \n",
            " 7   Utilib_taken_sum        16085 non-null  int64         \n",
            " 8   Utilib_returned_sum     16085 non-null  int64         \n",
            " 9   Utilib_14_taken_sum     16085 non-null  int64         \n",
            " 10  Utilib_14_returned_sum  16085 non-null  int64         \n",
            " 11  Slots_freed_sum         16085 non-null  int64         \n",
            " 12  Slots_taken_sum         16085 non-null  int64         \n",
            "dtypes: datetime64[ns](1), int64(11), object(1)\n",
            "memory usage: 1.6+ MB\n"
          ]
        }
      ]
    },
    {
      "cell_type": "markdown",
      "metadata": {
        "id": "ckfufNrcUHeH"
      },
      "source": [
        "## 4. External Data Source Validation"
      ]
    },
    {
      "cell_type": "markdown",
      "metadata": {
        "id": "6L4sl_0WXlbg"
      },
      "source": [
        "Making sure your data matches something outside of the dataset is very important. It allows you to ensure that the measurements are roughly in line with what they should be and it serves as a check on what other things might be wrong in your dataset. External validation can often be as simple as checking your data against a single number, as we will do here.\n",
        "\n",
        "An example would be suppose that you're working with a dataset on the population of countries during the year 2016. Validating such information with an external reliable resource such as World Bank Data would be important step to providing credibility to your dataset. Have a look at the following link for an example. [Link](https://rstudio-pubs-static.s3.amazonaws.com/182250_19977d0c5c06403fbad1e653850fc7c6.html)."
      ]
    },
    {
      "cell_type": "markdown",
      "metadata": {
        "id": "6XC_g-zKxe-r"
      },
      "source": [
        "### a.Validation"
      ]
    },
    {
      "cell_type": "markdown",
      "metadata": {
        "id": "FlBMxEDBUc9B"
      },
      "source": [
        "## 5. Tidying the Dataset"
      ]
    },
    {
      "cell_type": "code",
      "metadata": {
        "id": "5o_bQcT5W3Wz",
        "colab": {
          "base_uri": "https://localhost:8080/",
          "height": 978
        },
        "outputId": "15ea373f-90ad-4c27-9b5c-7ba6cb4bdc48"
      },
      "source": [
        "# Checking for Outliers\n",
        "#\n",
        "fig, ((ax1, ax2,ax3),(ax4,ax5,ax6),(ax7,ax8,ax9)) = plt.subplots(3,3,figsize=(20, 15))\n",
        "fig.suptitle('Boxplots')\n",
        "sns.boxplot( x = autolib_df['BlueCars_returned_sum'],ax = ax1)\n",
        "sns.boxplot( x = autolib_df['BlueCars_returned_sum'],ax = ax2)\n",
        "sns.boxplot( x = autolib_df['Utilib_taken_sum'],ax = ax3)\n",
        "sns.boxplot( x = autolib_df['Utilib_returned_sum'],ax = ax4)\n",
        "sns.boxplot( x = autolib_df['Utilib_14_taken_sum'],ax = ax5)\n",
        "sns.boxplot( x = autolib_df['Utilib_14_returned_sum'],ax = ax6)\n",
        "sns.boxplot( x = autolib_df['Slots_freed_sum'],ax = ax7)\n",
        "sns.boxplot( x = autolib_df['Slots_taken_sum'],ax = ax8)\n",
        "sns.boxplot( x = autolib_df['n_daily_data_points'],ax = ax9)\n"
      ],
      "execution_count": 6,
      "outputs": [
        {
          "output_type": "execute_result",
          "data": {
            "text/plain": [
              "<matplotlib.axes._subplots.AxesSubplot at 0x7f8bff937910>"
            ]
          },
          "metadata": {},
          "execution_count": 6
        },
        {
          "output_type": "display_data",
          "data": {
            "image/png": "[encoded data removed]",
            "text/plain": [
              "<Figure size 1440x1080 with 9 Axes>"
            ]
          },
          "metadata": {
            "needs_background": "light"
          }
        }
      ]
    },
    {
      "cell_type": "code",
      "metadata": {
        "id": "PWlukLKUvFQN"
      },
      "source": [
        "# our data contains outliers but we wont remove it as it may be the cause of variation in the data set as there could be days recorded high\n",
        "#numbers of cars of either taken or returned\n",
        "#"
      ],
      "execution_count": 7,
      "outputs": []
    },
    {
      "cell_type": "code",
      "metadata": {
        "id": "PvCYb6dgW4yh",
        "colab": {
          "base_uri": "https://localhost:8080/"
        },
        "outputId": "ba9cfb13-1235-4aa2-cce1-b62bdee97721"
      },
      "source": [
        "# Identifying the Missing Data\n",
        "#\n",
        "autolib_df.isnull().sum()"
      ],
      "execution_count": 7,
      "outputs": [
        {
          "output_type": "execute_result",
          "data": {
            "text/plain": [
              "Postal code               0\n",
              "date                      0\n",
              "n_daily_data_points       0\n",
              "dayOfWeek                 0\n",
              "day_type                  0\n",
              "BlueCars_taken_sum        0\n",
              "BlueCars_returned_sum     0\n",
              "Utilib_taken_sum          0\n",
              "Utilib_returned_sum       0\n",
              "Utilib_14_taken_sum       0\n",
              "Utilib_14_returned_sum    0\n",
              "Slots_freed_sum           0\n",
              "Slots_taken_sum           0\n",
              "dtype: int64"
            ]
          },
          "metadata": {},
          "execution_count": 7
        }
      ]
    },
    {
      "cell_type": "code",
      "metadata": {
        "id": "MpsDGKZHsf_W"
      },
      "source": [
        "# Dealing with the Missing Data\n",
        "#\n",
        "#our datatset has no missing values"
      ],
      "execution_count": 9,
      "outputs": []
    },
    {
      "cell_type": "code",
      "metadata": {
        "id": "D-4I__6Os4C5",
        "colab": {
          "base_uri": "https://localhost:8080/"
        },
        "outputId": "ef97c83f-ac1d-400d-9fb6-56fb3af626bf"
      },
      "source": [
        "#checking duplicates \n",
        "#\n",
        "autolib_df.duplicated()\n",
        "#dropping the duplicats\n",
        "autolib_df.drop_duplicates()\n",
        "#checking the data with no duplicates\n",
        "autolib_df.shape"
      ],
      "execution_count": 8,
      "outputs": [
        {
          "output_type": "execute_result",
          "data": {
            "text/plain": [
              "(16085, 13)"
            ]
          },
          "metadata": {},
          "execution_count": 8
        }
      ]
    },
    {
      "cell_type": "code",
      "metadata": {
        "id": "agSh8MsHVcuq",
        "colab": {
          "base_uri": "https://localhost:8080/"
        },
        "outputId": "59dc3f82-ce2a-4d0b-ac5d-a46e78439133"
      },
      "source": [
        "#checking the unique values in each column\n",
        "autolib_df.nunique()"
      ],
      "execution_count": 9,
      "outputs": [
        {
          "output_type": "execute_result",
          "data": {
            "text/plain": [
              "Postal code               104\n",
              "date                      156\n",
              "n_daily_data_points        23\n",
              "dayOfWeek                   7\n",
              "day_type                    2\n",
              "BlueCars_taken_sum        932\n",
              "BlueCars_returned_sum     929\n",
              "Utilib_taken_sum           48\n",
              "Utilib_returned_sum        49\n",
              "Utilib_14_taken_sum        92\n",
              "Utilib_14_returned_sum     94\n",
              "Slots_freed_sum           297\n",
              "Slots_taken_sum           301\n",
              "dtype: int64"
            ]
          },
          "metadata": {},
          "execution_count": 9
        }
      ]
    },
    {
      "cell_type": "markdown",
      "metadata": {
        "id": "rF2ABPsHUtbZ"
      },
      "source": [
        "## 6. Exploratory Analysis"
      ]
    },
    {
      "cell_type": "markdown",
      "metadata": {
        "id": "lXQpOi-KUS1m"
      },
      "source": [
        "### a.Univariate analysis"
      ]
    },
    {
      "cell_type": "code",
      "metadata": {
        "id": "KewVewBEUggo",
        "colab": {
          "base_uri": "https://localhost:8080/",
          "height": 738
        },
        "outputId": "245c98d3-2994-43fe-c9df-ba7c907f7de8"
      },
      "source": [
        "#creating frequency table for the categorical data\n",
        "#the Postal code \n",
        "autolib_df['Postal code'].value_counts()\n",
        "#weektype\n",
        "autolib_df['day_type'].value_counts()\n",
        "sns.displot(x= autolib_df['Postal code'],kind ='hist')\n",
        "sns.displot(x= autolib_df['day_type'],kind ='hist')"
      ],
      "execution_count": 12,
      "outputs": [
        {
          "output_type": "execute_result",
          "data": {
            "text/plain": [
              "<seaborn.axisgrid.FacetGrid at 0x7f5b56b0f590>"
            ]
          },
          "metadata": {},
          "execution_count": 12
        },
        {
          "output_type": "display_data",
          "data": {
            "image/png": "[encoded data removed]",
            "text/plain": [
              "<Figure size 360x360 with 1 Axes>"
            ]
          },
          "metadata": {
            "needs_background": "light"
          }
        },
        {
          "output_type": "display_data",
          "data": {
            "image/png": "[encoded data removed]",
            "text/plain": [
              "<Figure size 360x360 with 1 Axes>"
            ]
          },
          "metadata": {
            "needs_background": "light"
          }
        }
      ]
    },
    {
      "cell_type": "code",
      "metadata": {
        "id": "tLQzOso6cWfq",
        "colab": {
          "base_uri": "https://localhost:8080/",
          "height": 315
        },
        "outputId": "01648451-70f3-4607-a47f-3da96b9a0f02"
      },
      "source": [
        "#univariate summarries for the numerical data\n",
        "autolib_df.describe()"
      ],
      "execution_count": 13,
      "outputs": [
        {
          "output_type": "execute_result",
          "data": {
            "text/html": [
              "<div>\n",
              "<style scoped>\n",
              "    .dataframe tbody tr th:only-of-type {\n",
              "        vertical-align: middle;\n",
              "    }\n",
              "\n",
              "    .dataframe tbody tr th {\n",
              "        vertical-align: top;\n",
              "    }\n",
              "\n",
              "    .dataframe thead th {\n",
              "        text-align: right;\n",
              "    }\n",
              "</style>\n",
              "<table border=\"1\" class=\"dataframe\">\n",
              "  <thead>\n",
              "    <tr style=\"text-align: right;\">\n",
              "      <th></th>\n",
              "      <th>Postal code</th>\n",
              "      <th>n_daily_data_points</th>\n",
              "      <th>dayOfWeek</th>\n",
              "      <th>BlueCars_taken_sum</th>\n",
              "      <th>BlueCars_returned_sum</th>\n",
              "      <th>Utilib_taken_sum</th>\n",
              "      <th>Utilib_returned_sum</th>\n",
              "      <th>Utilib_14_taken_sum</th>\n",
              "      <th>Utilib_14_returned_sum</th>\n",
              "      <th>Slots_freed_sum</th>\n",
              "      <th>Slots_taken_sum</th>\n",
              "    </tr>\n",
              "  </thead>\n",
              "  <tbody>\n",
              "    <tr>\n",
              "      <th>count</th>\n",
              "      <td>16085.000000</td>\n",
              "      <td>16085.000000</td>\n",
              "      <td>16085.000000</td>\n",
              "      <td>16085.000000</td>\n",
              "      <td>16085.000000</td>\n",
              "      <td>16085.000000</td>\n",
              "      <td>16085.000000</td>\n",
              "      <td>16085.000000</td>\n",
              "      <td>16085.000000</td>\n",
              "      <td>16085.000000</td>\n",
              "      <td>16085.000000</td>\n",
              "    </tr>\n",
              "    <tr>\n",
              "      <th>mean</th>\n",
              "      <td>88791.293876</td>\n",
              "      <td>1431.330619</td>\n",
              "      <td>2.969599</td>\n",
              "      <td>125.926951</td>\n",
              "      <td>125.912714</td>\n",
              "      <td>3.698290</td>\n",
              "      <td>3.699099</td>\n",
              "      <td>8.600560</td>\n",
              "      <td>8.599192</td>\n",
              "      <td>22.629033</td>\n",
              "      <td>22.629282</td>\n",
              "    </tr>\n",
              "    <tr>\n",
              "      <th>std</th>\n",
              "      <td>7647.342000</td>\n",
              "      <td>33.212050</td>\n",
              "      <td>2.008378</td>\n",
              "      <td>185.426579</td>\n",
              "      <td>185.501535</td>\n",
              "      <td>5.815058</td>\n",
              "      <td>5.824634</td>\n",
              "      <td>12.870098</td>\n",
              "      <td>12.868993</td>\n",
              "      <td>52.120263</td>\n",
              "      <td>52.146030</td>\n",
              "    </tr>\n",
              "    <tr>\n",
              "      <th>min</th>\n",
              "      <td>75001.000000</td>\n",
              "      <td>1174.000000</td>\n",
              "      <td>0.000000</td>\n",
              "      <td>0.000000</td>\n",
              "      <td>0.000000</td>\n",
              "      <td>0.000000</td>\n",
              "      <td>0.000000</td>\n",
              "      <td>0.000000</td>\n",
              "      <td>0.000000</td>\n",
              "      <td>0.000000</td>\n",
              "      <td>0.000000</td>\n",
              "    </tr>\n",
              "    <tr>\n",
              "      <th>25%</th>\n",
              "      <td>91330.000000</td>\n",
              "      <td>1439.000000</td>\n",
              "      <td>1.000000</td>\n",
              "      <td>20.000000</td>\n",
              "      <td>20.000000</td>\n",
              "      <td>0.000000</td>\n",
              "      <td>0.000000</td>\n",
              "      <td>1.000000</td>\n",
              "      <td>1.000000</td>\n",
              "      <td>0.000000</td>\n",
              "      <td>0.000000</td>\n",
              "    </tr>\n",
              "    <tr>\n",
              "      <th>50%</th>\n",
              "      <td>92340.000000</td>\n",
              "      <td>1440.000000</td>\n",
              "      <td>3.000000</td>\n",
              "      <td>46.000000</td>\n",
              "      <td>46.000000</td>\n",
              "      <td>1.000000</td>\n",
              "      <td>1.000000</td>\n",
              "      <td>3.000000</td>\n",
              "      <td>3.000000</td>\n",
              "      <td>0.000000</td>\n",
              "      <td>0.000000</td>\n",
              "    </tr>\n",
              "    <tr>\n",
              "      <th>75%</th>\n",
              "      <td>93400.000000</td>\n",
              "      <td>1440.000000</td>\n",
              "      <td>5.000000</td>\n",
              "      <td>135.000000</td>\n",
              "      <td>135.000000</td>\n",
              "      <td>4.000000</td>\n",
              "      <td>4.000000</td>\n",
              "      <td>10.000000</td>\n",
              "      <td>10.000000</td>\n",
              "      <td>5.000000</td>\n",
              "      <td>5.000000</td>\n",
              "    </tr>\n",
              "    <tr>\n",
              "      <th>max</th>\n",
              "      <td>95880.000000</td>\n",
              "      <td>1440.000000</td>\n",
              "      <td>6.000000</td>\n",
              "      <td>1352.000000</td>\n",
              "      <td>1332.000000</td>\n",
              "      <td>54.000000</td>\n",
              "      <td>58.000000</td>\n",
              "      <td>100.000000</td>\n",
              "      <td>101.000000</td>\n",
              "      <td>360.000000</td>\n",
              "      <td>359.000000</td>\n",
              "    </tr>\n",
              "  </tbody>\n",
              "</table>\n",
              "</div>"
            ],
            "text/plain": [
              "        Postal code  n_daily_data_points  ...  Slots_freed_sum  Slots_taken_sum\n",
              "count  16085.000000         16085.000000  ...     16085.000000     16085.000000\n",
              "mean   88791.293876          1431.330619  ...        22.629033        22.629282\n",
              "std     7647.342000            33.212050  ...        52.120263        52.146030\n",
              "min    75001.000000          1174.000000  ...         0.000000         0.000000\n",
              "25%    91330.000000          1439.000000  ...         0.000000         0.000000\n",
              "50%    92340.000000          1440.000000  ...         0.000000         0.000000\n",
              "75%    93400.000000          1440.000000  ...         5.000000         5.000000\n",
              "max    95880.000000          1440.000000  ...       360.000000       359.000000\n",
              "\n",
              "[8 rows x 11 columns]"
            ]
          },
          "metadata": {},
          "execution_count": 13
        }
      ]
    },
    {
      "cell_type": "markdown",
      "metadata": {
        "id": "TsRVqWVleZlP"
      },
      "source": [
        "### b.bivariate analysis"
      ]
    },
    {
      "cell_type": "code",
      "metadata": {
        "id": "hd5GLKi0egGI",
        "colab": {
          "base_uri": "https://localhost:8080/",
          "height": 993
        },
        "outputId": "26d3e70f-5f62-4002-b7a4-f8324f225e30"
      },
      "source": [
        "#encoding the day type column\n",
        "from sklearn.preprocessing import LabelEncoder\n",
        "en = LabelEncoder()\n",
        "autolib_df['day_type'] = en.fit_transform(autolib_df['day_type'])\n",
        "#finding correlation between the variable\n",
        "matrix = autolib_df.corr()\n",
        "matrix\n",
        "#visualizing the correlation matrix using heatmap\n",
        "fig, ax = plt.subplots(figsize=(15,15)) \n",
        "sns.heatmap(matrix, annot=True,  linewidths=.5, ax=ax)"
      ],
      "execution_count": 14,
      "outputs": [
        {
          "output_type": "execute_result",
          "data": {
            "text/plain": [
              "<matplotlib.axes._subplots.AxesSubplot at 0x7f5b4b4a1750>"
            ]
          },
          "metadata": {},
          "execution_count": 14
        },
        {
          "output_type": "display_data",
          "data": {
            "image/png": "[encoded data removed]",
            "text/plain": [
              "<Figure size 1080x1080 with 2 Axes>"
            ]
          },
          "metadata": {
            "needs_background": "light"
          }
        }
      ]
    },
    {
      "cell_type": "markdown",
      "metadata": {
        "id": "VkLxnTKomHL8"
      },
      "source": [
        "the slots freed and slots taken had a very strong positive correlation of 1 and postal code and number of daily data points had a correlation of nearly 0 and the postal code and slots taken had a very strong negative correlation of -0.75\n"
      ]
    },
    {
      "cell_type": "markdown",
      "metadata": {
        "id": "vTbdjSrhVIiT"
      },
      "source": [
        "## 7. Implementing the Solution"
      ]
    },
    {
      "cell_type": "code",
      "metadata": {
        "id": "PJLZaRzJXJ3w",
        "colab": {
          "base_uri": "https://localhost:8080/"
        },
        "outputId": "dde5bee1-ab2d-4dfb-d4cb-64fcce2bae8d"
      },
      "source": [
        "# Implementing the Solution\n",
        "# average number of blue cars taken in Area A which is represent by postal code 75001\n",
        "area_1 = autolib_df[autolib_df['Postal code'] == 75001]\n",
        "u1 = area_1['BlueCars_taken_sum']\n",
        "print(u1)\n",
        "#average number of blue cars taken in Area B which is represented by postal code 75002\n",
        "area_2 = autolib_df[autolib_df['Postal code'] == 75002]\n",
        "print(area_2)\n",
        "u1 = area_1['BlueCars_taken_sum']\n",
        "print(u1)\n",
        "u2 = area_2['BlueCars_taken_sum']\n",
        "print(u2)"
      ],
      "execution_count": 10,
      "outputs": [
        {
          "output_type": "stream",
          "name": "stdout",
          "text": [
            "0      110\n",
            "1       98\n",
            "2      138\n",
            "3      104\n",
            "4      114\n",
            "      ... \n",
            "151    150\n",
            "152    203\n",
            "153    175\n",
            "154    122\n",
            "155      6\n",
            "Name: BlueCars_taken_sum, Length: 156, dtype: int64\n",
            "     Postal code       date  ...  Slots_freed_sum  Slots_taken_sum\n",
            "156        75002 2018-01-01  ...               30               29\n",
            "157        75002 2018-01-02  ...               32               31\n",
            "158        75002 2018-01-03  ...               31               33\n",
            "159        75002 2018-01-04  ...               32               32\n",
            "160        75002 2018-01-05  ...               34               32\n",
            "..           ...        ...  ...              ...              ...\n",
            "307        75002 2018-06-15  ...               43               44\n",
            "308        75002 2018-06-16  ...               40               41\n",
            "309        75002 2018-06-17  ...               27               25\n",
            "310        75002 2018-06-18  ...               23               23\n",
            "311        75002 2018-06-19  ...                1                1\n",
            "\n",
            "[156 rows x 13 columns]\n",
            "0      110\n",
            "1       98\n",
            "2      138\n",
            "3      104\n",
            "4      114\n",
            "      ... \n",
            "151    150\n",
            "152    203\n",
            "153    175\n",
            "154    122\n",
            "155      6\n",
            "Name: BlueCars_taken_sum, Length: 156, dtype: int64\n",
            "156    145\n",
            "157    137\n",
            "158    166\n",
            "159    131\n",
            "160    165\n",
            "      ... \n",
            "307    193\n",
            "308    245\n",
            "309    208\n",
            "310    138\n",
            "311      5\n",
            "Name: BlueCars_taken_sum, Length: 156, dtype: int64\n"
          ]
        }
      ]
    },
    {
      "cell_type": "code",
      "metadata": {
        "id": "8QBJiOgO4zmQ",
        "colab": {
          "base_uri": "https://localhost:8080/"
        },
        "outputId": "a33b77ea-a260-4f38-c1a3-aa813c3413a6"
      },
      "source": [
        "#checking the normality of the variable to be used \n",
        "from scipy.stats import shapiro \n",
        "data = autolib_df['BlueCars_returned_sum'].head(3000)\n",
        "# testing for normality\n",
        "stat, p = shapiro(data)\n",
        "print('Statistics=%.3f, p=%.3f' % (stat, p))\n",
        "\n",
        "# interpreting\n",
        "alpha = 0.05\n",
        "if p > alpha:\n",
        "\tprint('Sample looks Gaussian')\n",
        "else:\n",
        "\tprint('Sample does not look Gaussian')\n",
        " # finding p-value of data more 5000 may not be correct hence using we are finding using 3000\n",
        " #the population does not follow a normal distributions we will use a t test with a large sample size that is a sample size greater than 30\n"
      ],
      "execution_count": 11,
      "outputs": [
        {
          "output_type": "stream",
          "name": "stdout",
          "text": [
            "Statistics=0.949, p=0.000\n",
            "Sample does not look Gaussian\n"
          ]
        }
      ]
    },
    {
      "cell_type": "code",
      "metadata": {
        "id": "HLhV5mXxYyZ-",
        "colab": {
          "base_uri": "https://localhost:8080/"
        },
        "outputId": "48ac4a96-b600-4bb2-ad7a-4d3bd7d755eb"
      },
      "source": [
        "# our population is 312 that is the total population from postal code 75002 and 75001 \n",
        "# now we create a sample size of 100 selecting 50 from each of the area\n",
        "#we use starified sampling since the data is divided into areas using and from each strata  we randomly select 50 \n",
        "import random\n",
        "#sample size from area_1\n",
        "sample_A= area_1.sample( n =50)\n",
        "sample_A\n",
        "sam_A = sample_A['BlueCars_returned_sum']\n",
        "print(sam_A)\n",
        "#sample size from area 2\n",
        "sample_B = area_2.sample(n = 50)\n",
        "sam_B = sample_B['BlueCars_returned_sum']\n",
        "#now we have generated our sample size"
      ],
      "execution_count": 12,
      "outputs": [
        {
          "output_type": "stream",
          "name": "stdout",
          "text": [
            "9       85\n",
            "10     125\n",
            "75      98\n",
            "95     105\n",
            "91     118\n",
            "36     118\n",
            "66     177\n",
            "41     165\n",
            "146    146\n",
            "47     176\n",
            "67      98\n",
            "44      99\n",
            "147    113\n",
            "17     122\n",
            "148    126\n",
            "126    141\n",
            "37      99\n",
            "127    144\n",
            "102    122\n",
            "61     121\n",
            "154    120\n",
            "107    190\n",
            "81     100\n",
            "123    115\n",
            "15     116\n",
            "26     218\n",
            "74      96\n",
            "133     94\n",
            "8       84\n",
            "134    141\n",
            "20     150\n",
            "72     203\n",
            "96     100\n",
            "155      7\n",
            "97     125\n",
            "49      86\n",
            "100    219\n",
            "132    179\n",
            "7       83\n",
            "153    174\n",
            "83     103\n",
            "60     103\n",
            "138    253\n",
            "13     193\n",
            "62     118\n",
            "103    107\n",
            "111    113\n",
            "39     109\n",
            "128     94\n",
            "51     116\n",
            "Name: BlueCars_returned_sum, dtype: int64\n"
          ]
        }
      ]
    },
    {
      "cell_type": "code",
      "metadata": {
        "id": "QzExhSUVe1ah",
        "colab": {
          "base_uri": "https://localhost:8080/"
        },
        "outputId": "efe11730-7010-4e04-9a8e-e6e1fa8db73a"
      },
      "source": [
        "#the null hypothesis is that u1 = u2 vs the alternative hypothesis that u1!= u2 where u1 is mean of blue cars taken in area 1 while u2 is mean \n",
        "#of blue cars taken in area 2\n",
        "#t static formula =  ((x1-x2) -(u1-u2))/sqrat(s1**2/n2+s2**2/n1)\n",
        "#where x1,x2 are the sample mean,s1,s2 are the sample standard deviation and n1,n2 are the size of sample\n",
        "#level of significance for our study is 5%\n",
        "import math\n",
        "x1 = sam_A.mean()\n",
        "print(x1)\n",
        "x2 = sam_B.mean()\n",
        "print(x2)\n",
        "s1 = sam_A.std()\n",
        "print(s1)\n",
        "s2 = sam_B.std()\n",
        "print(s2)\n",
        "n1 = len(sam_A)\n",
        "n2 = len(sam_B)\n",
        "se_A = (s1**2)/n1\n",
        "se_B = (s2**2)/n2\n",
        "se = se_A + se_B\n",
        "std_error = math.sqrt(se)\n",
        "t_test = ((x2-x1)-0)/std_error\n",
        "t_test\n",
        "#the calculated t is 5.796 and the tabulated is 2.021 and since the calc is greater than tabl we reject the H0 and conclude that there is \n",
        "#difference in the mean number of blue cars taken in area 1 and area 2\n"
      ],
      "execution_count": 21,
      "outputs": [
        {
          "output_type": "stream",
          "name": "stdout",
          "text": [
            "128.14\n",
            "176.78\n",
            "43.445490125499774\n",
            "40.42341713736265\n"
          ]
        },
        {
          "output_type": "execute_result",
          "data": {
            "text/plain": [
              "5.795765708275977"
            ]
          },
          "metadata": {},
          "execution_count": 21
        }
      ]
    },
    {
      "cell_type": "code",
      "metadata": {
        "colab": {
          "base_uri": "https://localhost:8080/"
        },
        "id": "CSYxMdFloonh",
        "outputId": "08304e77-7e1a-4444-b953-e928f1b71e8d"
      },
      "source": [
        "#finding the p value\n",
        "import scipy.stats as stats\n",
        "stats.t.sf(abs(t_test), df=(49)) *2\n",
        "#the pvalue is  < 0.05 hence we reject H0"
      ],
      "execution_count": 20,
      "outputs": [
        {
          "output_type": "execute_result",
          "data": {
            "text/plain": [
              "4.822577264195485e-07"
            ]
          },
          "metadata": {},
          "execution_count": 20
        }
      ]
    },
    {
      "cell_type": "code",
      "metadata": {
        "colab": {
          "base_uri": "https://localhost:8080/"
        },
        "id": "O8LrHGZ0qbIh",
        "outputId": "139f3c78-ae78-469b-93c1-ba8face3e26d"
      },
      "source": [
        "#point estimate for the mean number blue cars taken in area 1 and area 2 respectively\n",
        "x1= sam_A.mean()\n",
        "print('mean estimate for area_1:', x1)\n",
        "x2 = sam_B.mean()\n",
        "print('mean estimate for area_2:', x2)"
      ],
      "execution_count": 23,
      "outputs": [
        {
          "output_type": "stream",
          "name": "stdout",
          "text": [
            "mean estimate for area_1: 128.14\n",
            "mean estimate for area_2: 176.78\n"
          ]
        }
      ]
    },
    {
      "cell_type": "markdown",
      "metadata": {
        "id": "yTGoxtsmoCiA"
      },
      "source": [
        "from the hypothesis testing we can conclude that the mean of the blue car taken from area 1 and area 2 are different hence one area is performing better than the other thus the need to look into which area is doing better and which is not in order to come up with measures to improve performance\n"
      ]
    }
  ]
}